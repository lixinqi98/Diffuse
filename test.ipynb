{
 "cells": [
  {
   "cell_type": "code",
   "execution_count": 6,
   "metadata": {},
   "outputs": [],
   "source": [
    "import pandas as pd\n",
    "import numpy as np\n",
    "from rdkit import Chem\n",
    "from rdkit.Chem import AllChem, Draw, MACCSkeys, rdFMCS, PandasTools\n",
    "import matplotlib.pyplot as plt"
   ]
  },
  {
   "cell_type": "code",
   "execution_count": 7,
   "metadata": {},
   "outputs": [],
   "source": [
    "from lib import preprocess_Chembl_data\n",
    "from lib import OpenSMILES_grammar"
   ]
  },
  {
   "cell_type": "code",
   "execution_count": 8,
   "metadata": {},
   "outputs": [
    {
     "data": {
      "image/png": "[encoded data removed]",
      "text/plain": [
       "<Figure size 432x288 with 1 Axes>"
      ]
     },
     "metadata": {
      "needs_background": "light"
     },
     "output_type": "display_data"
    }
   ],
   "source": [
    "data = pd.read_csv('data/lipo_balanced_training_unique.csv')\n",
    "plt.hist(data['GenExp'])\n",
    "\n",
    "gen_exp_list = []\n",
    "for index in data.index:\n",
    "    gen_exp_list.append(np.asarray([[data['GenExp'][index]]]))\n",
    "data['GenExp'] = gen_exp_list"
   ]
  },
  {
   "cell_type": "code",
   "execution_count": 9,
   "metadata": {},
   "outputs": [
    {
     "name": "stdout",
     "output_type": "stream",
     "text": [
      "Number of total samples: 50467\n",
      "Number of unique input tokens: 61\n",
      "Number of unique output tokens: 107\n",
      "Max sequence length for inputs: 120\n",
      "Shape encoder input One-Hot encoding: (50467, 120, 61)\n"
     ]
    }
   ],
   "source": [
    "translate = preprocess_Chembl_data.translate\n",
    "smiles2dummies = preprocess_Chembl_data.smiles2dummies\n",
    "dummies2smiles = preprocess_Chembl_data.dummies2smiles\n",
    "charset = sorted(preprocess_Chembl_data.chembl_charset + ['L', 'X', 'Y', 'e', 'K', 'U', 'G'])\n",
    "max_seq_length = preprocess_Chembl_data.chembl_max_seq_length\n",
    "num_tokens = len(charset)\n",
    "num_decoder_tokens = OpenSMILES_grammar.D\n",
    "token_index = dict(\n",
    "    [(char, i) for i, char in enumerate(charset)])\n",
    "\n",
    "L1000_input_smiles = data.input_smiles.values\n",
    "encoder_input_tokens = np.array([np.array([token_index[char] for char in mol], dtype=int) \n",
    "                               for mol in L1000_input_smiles])\n",
    "\n",
    "L1000_encoder_input_data = np.zeros((len(L1000_input_smiles), max_seq_length, num_tokens), dtype='float32')\n",
    "for i in range(len(L1000_input_smiles)):\n",
    "    num_chars = len(encoder_input_tokens[i])\n",
    "    L1000_encoder_input_data[i][np.arange(num_chars),encoder_input_tokens[i]] = 1.\n",
    "\n",
    "print('Number of total samples:', len(L1000_input_smiles))\n",
    "print('Number of unique input tokens:', num_tokens)\n",
    "print('Number of unique output tokens:', num_decoder_tokens)\n",
    "print('Max sequence length for inputs:', max_seq_length)\n",
    "print('Shape encoder input One-Hot encoding:', L1000_encoder_input_data.shape)"
   ]
  },
  {
   "cell_type": "markdown",
   "metadata": {},
   "source": [
    "## Load AutoEncoder"
   ]
  },
  {
   "cell_type": "code",
   "execution_count": 10,
   "metadata": {},
   "outputs": [
    {
     "name": "stderr",
     "output_type": "stream",
     "text": [
      "2022-08-12 23:26:21.311937: W tensorflow/core/util/tensor_slice_reader.cc:96] Could not open models/mol2grammar_1GRU_256_dropout: DATA_LOSS: not an sstable (bad magic number): perhaps your file is in a different file format and you need to use a different restore operator?\n"
     ]
    }
   ],
   "source": [
    "import warnings\n",
    "import numpy as np\n",
    "import tensorflow as tf\n",
    "from lib.Models_New import build_encoder_decoder\n",
    "warnings.filterwarnings('ignore')\n",
    "config = tf.compat.v1.ConfigProto()\n",
    "config.gpu_options.allow_growth = True\n",
    "\n",
    "\n",
    "tf.compat.v1.keras.backend.set_session(tf.compat.v1.Session(config=config))\n",
    "model, encoder_model, decoder_model = build_encoder_decoder(num_tokens=num_tokens, NCHARS = num_decoder_tokens,\n",
    "                                                            weights='models/mol2grammar_1GRU_256_dropout',\n",
    "                                                            latent_dim= 256, verbose = False)"
   ]
  },
  {
   "cell_type": "code",
   "execution_count": 11,
   "metadata": {},
   "outputs": [
    {
     "name": "stdout",
     "output_type": "stream",
     "text": [
      "1578/1578 [==============================] - 98s 62ms/step\n"
     ]
    },
    {
     "data": {
      "text/html": [
       "<div>\n",
       "<style scoped>\n",
       "    .dataframe tbody tr th:only-of-type {\n",
       "        vertical-align: middle;\n",
       "    }\n",
       "\n",
       "    .dataframe tbody tr th {\n",
       "        vertical-align: top;\n",
       "    }\n",
       "\n",
       "    .dataframe thead th {\n",
       "        text-align: right;\n",
       "    }\n",
       "</style>\n",
       "<table border=\"1\" class=\"dataframe\">\n",
       "  <thead>\n",
       "    <tr style=\"text-align: right;\">\n",
       "      <th></th>\n",
       "      <th>pert_iname</th>\n",
       "      <th>input_smiles</th>\n",
       "      <th>GenExp</th>\n",
       "      <th>included</th>\n",
       "      <th>accept_length</th>\n",
       "      <th>states</th>\n",
       "    </tr>\n",
       "  </thead>\n",
       "  <tbody>\n",
       "    <tr>\n",
       "      <th>0</th>\n",
       "      <td>100136</td>\n",
       "      <td>N[C@@H](CSSC[C@H](N)C(O)=O)C(O)=O</td>\n",
       "      <td>[[-5.08]]</td>\n",
       "      <td>True</td>\n",
       "      <td>True</td>\n",
       "      <td>[[0.06230200454592705, 0.09849172830581665, -0...</td>\n",
       "    </tr>\n",
       "    <tr>\n",
       "      <th>1</th>\n",
       "      <td>100610</td>\n",
       "      <td>Nc1cc(N)c(cc1)S(O)(=O)=O</td>\n",
       "      <td>[[-4.65]]</td>\n",
       "      <td>True</td>\n",
       "      <td>True</td>\n",
       "      <td>[[0.009378821589052677, -0.0020040320232510567...</td>\n",
       "    </tr>\n",
       "    <tr>\n",
       "      <th>2</th>\n",
       "      <td>101753</td>\n",
       "      <td>OC(=O)C(N)CCN</td>\n",
       "      <td>[[-4.64]]</td>\n",
       "      <td>True</td>\n",
       "      <td>True</td>\n",
       "      <td>[[0.17924384772777557, -0.007317966315895319, ...</td>\n",
       "    </tr>\n",
       "    <tr>\n",
       "      <th>3</th>\n",
       "      <td>106334</td>\n",
       "      <td>OP(O)(=O)CN(CP(O)(O)=O)CCCCCCN(CP(O)(O)=O)CP(O...</td>\n",
       "      <td>[[-4.43]]</td>\n",
       "      <td>True</td>\n",
       "      <td>True</td>\n",
       "      <td>[[-0.09266526252031326, -0.0772615522146225, -...</td>\n",
       "    </tr>\n",
       "    <tr>\n",
       "      <th>4</th>\n",
       "      <td>100319</td>\n",
       "      <td>O=C(O)C(N)CCCN</td>\n",
       "      <td>[[-4.22]]</td>\n",
       "      <td>True</td>\n",
       "      <td>True</td>\n",
       "      <td>[[0.17377588152885437, -0.05099713057279587, -...</td>\n",
       "    </tr>\n",
       "  </tbody>\n",
       "</table>\n",
       "</div>"
      ],
      "text/plain": [
       "  pert_iname                                       input_smiles     GenExp  \\\n",
       "0     100136                  N[C@@H](CSSC[C@H](N)C(O)=O)C(O)=O  [[-5.08]]   \n",
       "1     100610                           Nc1cc(N)c(cc1)S(O)(=O)=O  [[-4.65]]   \n",
       "2     101753                                      OC(=O)C(N)CCN  [[-4.64]]   \n",
       "3     106334  OP(O)(=O)CN(CP(O)(O)=O)CCCCCCN(CP(O)(O)=O)CP(O...  [[-4.43]]   \n",
       "4     100319                                     O=C(O)C(N)CCCN  [[-4.22]]   \n",
       "\n",
       "   included  accept_length                                             states  \n",
       "0      True           True  [[0.06230200454592705, 0.09849172830581665, -0...  \n",
       "1      True           True  [[0.009378821589052677, -0.0020040320232510567...  \n",
       "2      True           True  [[0.17924384772777557, -0.007317966315895319, ...  \n",
       "3      True           True  [[-0.09266526252031326, -0.0772615522146225, -...  \n",
       "4      True           True  [[0.17377588152885437, -0.05099713057279587, -...  "
      ]
     },
     "execution_count": 11,
     "metadata": {},
     "output_type": "execute_result"
    }
   ],
   "source": [
    "np.random.seed(0)\n",
    "data['states'] = np.expand_dims(encoder_model.predict(L1000_encoder_input_data, verbose=1), axis=1).tolist()\n",
    "data.head()"
   ]
  },
  {
   "cell_type": "code",
   "execution_count": 12,
   "metadata": {},
   "outputs": [],
   "source": [
    "data.to_csv(\"data/output_data.csv\")"
   ]
  }
 ],
 "metadata": {
  "kernelspec": {
   "display_name": "Python 3.8.13 ('tf2')",
   "language": "python",
   "name": "python3"
  },
  "language_info": {
   "codemirror_mode": {
    "name": "ipython",
    "version": 3
   },
   "file_extension": ".py",
   "mimetype": "text/x-python",
   "name": "python",
   "nbconvert_exporter": "python",
   "pygments_lexer": "ipython3",
   "version": "3.8.13"
  },
  "orig_nbformat": 4,
  "vscode": {
   "interpreter": {
    "hash": "487ce77215b68e2499110740f93330a659b2d5bf09ebc1ff431bb57abc513433"
   }
  }
 },
 "nbformat": 4,
 "nbformat_minor": 2
}
