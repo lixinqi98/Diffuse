{
 "cells": [
  {
   "cell_type": "code",
   "execution_count": 1,
   "metadata": {},
   "outputs": [],
   "source": [
    "import pandas as pd\n",
    "import numpy as np\n",
    "from rdkit import Chem\n",
    "from rdkit.Chem import AllChem, Draw, MACCSkeys, rdFMCS, PandasTools\n",
    "import matplotlib.pyplot as plt\n",
    "from lib import preprocess_Chembl_data\n",
    "from lib import OpenSMILES_grammar"
   ]
  },
  {
   "cell_type": "code",
   "execution_count": 2,
   "metadata": {},
   "outputs": [
    {
     "data": {
      "text/plain": [
       "(array([2192., 4128., 6894., 6534., 6306., 7508., 6859., 4962., 3403.,\n",
       "        1681.]),\n",
       " array([-5.08 , -3.443, -1.806, -0.169,  1.468,  3.105,  4.742,  6.379,\n",
       "         8.016,  9.653, 11.29 ]),\n",
       " <BarContainer object of 10 artists>)"
      ]
     },
     "execution_count": 2,
     "metadata": {},
     "output_type": "execute_result"
    },
    {
     "data": {
      "image/png": "[encoded data removed]",
      "text/plain": [
       "<Figure size 432x288 with 1 Axes>"
      ]
     },
     "metadata": {
      "needs_background": "light"
     },
     "output_type": "display_data"
    }
   ],
   "source": [
    "data = pd.read_csv('data/lipo_balanced_training_unique.csv')\n",
    "plt.hist(data['GenExp'])"
   ]
  },
  {
   "cell_type": "code",
   "execution_count": 16,
   "metadata": {},
   "outputs": [
    {
     "name": "stdout",
     "output_type": "stream",
     "text": [
      "Number of total samples: 50467\n",
      "Number of unique input tokens: 61\n",
      "Number of unique output tokens: 107\n",
      "Max sequence length for inputs: 120\n",
      "Shape encoder input One-Hot encoding: (50467, 120, 61)\n"
     ]
    }
   ],
   "source": [
    "translate = preprocess_Chembl_data.translate\n",
    "smiles2dummies = preprocess_Chembl_data.smiles2dummies\n",
    "dummies2smiles = preprocess_Chembl_data.dummies2smiles\n",
    "charset = sorted(preprocess_Chembl_data.chembl_charset + ['L', 'X', 'Y', 'e', 'K', 'U', 'G'])\n",
    "max_seq_length = preprocess_Chembl_data.chembl_max_seq_length\n",
    "num_tokens = len(charset)\n",
    "num_decoder_tokens = OpenSMILES_grammar.D\n",
    "token_index = dict(\n",
    "    [(char, i) for i, char in enumerate(charset)])\n",
    "\n",
    "L1000_input_smiles = data.input_smiles.values\n",
    "encoder_input_tokens = np.array([np.array([token_index[char] for char in mol], dtype=int) \n",
    "                               for mol in L1000_input_smiles])\n",
    "\n",
    "L1000_encoder_input_data = np.zeros((len(L1000_input_smiles), max_seq_length, num_tokens), dtype='float32')\n",
    "for i in range(len(L1000_input_smiles)):\n",
    "    num_chars = len(encoder_input_tokens[i])\n",
    "    L1000_encoder_input_data[i][np.arange(num_chars),encoder_input_tokens[i]] = 1.\n",
    "\n",
    "print('Number of total samples:', len(L1000_input_smiles))\n",
    "print('Number of unique input tokens:', num_tokens)\n",
    "print('Number of unique output tokens:', num_decoder_tokens)\n",
    "print('Max sequence length for inputs:', max_seq_length)\n",
    "print('Shape encoder input One-Hot encoding:', L1000_encoder_input_data.shape)"
   ]
  },
  {
   "cell_type": "markdown",
   "metadata": {},
   "source": [
    "## Load AutoEncoder"
   ]
  },
  {
   "cell_type": "code",
   "execution_count": 19,
   "metadata": {},
   "outputs": [
    {
     "name": "stderr",
     "output_type": "stream",
     "text": [
      "2022-08-28 23:00:48.867595: W tensorflow/core/util/tensor_slice_reader.cc:96] Could not open models/mol2grammar_1GRU_256_dropout: DATA_LOSS: not an sstable (bad magic number): perhaps your file is in a different file format and you need to use a different restore operator?\n"
     ]
    }
   ],
   "source": [
    "import warnings\n",
    "import numpy as np\n",
    "import tensorflow as tf\n",
    "# from lib.Models_New import build_encoder_decoder\n",
    "from lib.Models_New_without_info_loss import build_encoder_decoder\n",
    "warnings.filterwarnings('ignore')\n",
    "config = tf.compat.v1.ConfigProto()\n",
    "config.gpu_options.allow_growth = True\n",
    "\n",
    "\n",
    "tf.compat.v1.keras.backend.set_session(tf.compat.v1.Session(config=config))\n",
    "model, encoder_model, decoder_model = build_encoder_decoder(num_tokens=num_tokens, NCHARS = num_decoder_tokens,\n",
    "                                                            weights='models/mol2grammar_1GRU_256_dropout',\n",
    "                                                            latent_dim= 256, verbose = False)"
   ]
  },
  {
   "cell_type": "code",
   "execution_count": 20,
   "metadata": {},
   "outputs": [
    {
     "name": "stdout",
     "output_type": "stream",
     "text": [
      "1578/1578 [==============================] - 107s 67ms/step\n"
     ]
    }
   ],
   "source": [
    "np.random.seed(0)\n",
    "data['states'] = np.expand_dims(encoder_model.predict(L1000_encoder_input_data, verbose=1), axis=1).tolist()\n",
    "data.head()\n",
    "data.to_csv(\"data/output_data.csv\")"
   ]
  },
  {
   "cell_type": "code",
   "execution_count": 30,
   "metadata": {},
   "outputs": [
    {
     "data": {
      "text/html": [
       "<div>\n",
       "<style scoped>\n",
       "    .dataframe tbody tr th:only-of-type {\n",
       "        vertical-align: middle;\n",
       "    }\n",
       "\n",
       "    .dataframe tbody tr th {\n",
       "        vertical-align: top;\n",
       "    }\n",
       "\n",
       "    .dataframe thead th {\n",
       "        text-align: right;\n",
       "    }\n",
       "</style>\n",
       "<table border=\"1\" class=\"dataframe\">\n",
       "  <thead>\n",
       "    <tr style=\"text-align: right;\">\n",
       "      <th></th>\n",
       "      <th>pert_iname</th>\n",
       "      <th>input_smiles</th>\n",
       "      <th>GenExp</th>\n",
       "      <th>included</th>\n",
       "      <th>accept_length</th>\n",
       "      <th>states</th>\n",
       "    </tr>\n",
       "  </thead>\n",
       "  <tbody>\n",
       "    <tr>\n",
       "      <th>0</th>\n",
       "      <td>100136</td>\n",
       "      <td>N[C@@H](CSSC[C@H](N)C(O)=O)C(O)=O</td>\n",
       "      <td>-5.08</td>\n",
       "      <td>True</td>\n",
       "      <td>True</td>\n",
       "      <td>[[0.06230200454592705, 0.09849172830581665, -0...</td>\n",
       "    </tr>\n",
       "    <tr>\n",
       "      <th>1</th>\n",
       "      <td>100610</td>\n",
       "      <td>Nc1cc(N)c(cc1)S(O)(=O)=O</td>\n",
       "      <td>-4.65</td>\n",
       "      <td>True</td>\n",
       "      <td>True</td>\n",
       "      <td>[[0.009378821589052677, -0.0020040320232510567...</td>\n",
       "    </tr>\n",
       "    <tr>\n",
       "      <th>2</th>\n",
       "      <td>101753</td>\n",
       "      <td>OC(=O)C(N)CCN</td>\n",
       "      <td>-4.64</td>\n",
       "      <td>True</td>\n",
       "      <td>True</td>\n",
       "      <td>[[0.17924384772777557, -0.007317966315895319, ...</td>\n",
       "    </tr>\n",
       "    <tr>\n",
       "      <th>3</th>\n",
       "      <td>106334</td>\n",
       "      <td>OP(O)(=O)CN(CP(O)(O)=O)CCCCCCN(CP(O)(O)=O)CP(O...</td>\n",
       "      <td>-4.43</td>\n",
       "      <td>True</td>\n",
       "      <td>True</td>\n",
       "      <td>[[-0.09266526252031326, -0.0772615522146225, -...</td>\n",
       "    </tr>\n",
       "    <tr>\n",
       "      <th>4</th>\n",
       "      <td>100319</td>\n",
       "      <td>O=C(O)C(N)CCCN</td>\n",
       "      <td>-4.22</td>\n",
       "      <td>True</td>\n",
       "      <td>True</td>\n",
       "      <td>[[0.17377588152885437, -0.05099713057279587, -...</td>\n",
       "    </tr>\n",
       "  </tbody>\n",
       "</table>\n",
       "</div>"
      ],
      "text/plain": [
       "  pert_iname                                       input_smiles  GenExp  \\\n",
       "0     100136                  N[C@@H](CSSC[C@H](N)C(O)=O)C(O)=O   -5.08   \n",
       "1     100610                           Nc1cc(N)c(cc1)S(O)(=O)=O   -4.65   \n",
       "2     101753                                      OC(=O)C(N)CCN   -4.64   \n",
       "3     106334  OP(O)(=O)CN(CP(O)(O)=O)CCCCCCN(CP(O)(O)=O)CP(O...   -4.43   \n",
       "4     100319                                     O=C(O)C(N)CCCN   -4.22   \n",
       "\n",
       "   included  accept_length                                             states  \n",
       "0      True           True  [[0.06230200454592705, 0.09849172830581665, -0...  \n",
       "1      True           True  [[0.009378821589052677, -0.0020040320232510567...  \n",
       "2      True           True  [[0.17924384772777557, -0.007317966315895319, ...  \n",
       "3      True           True  [[-0.09266526252031326, -0.0772615522146225, -...  \n",
       "4      True           True  [[0.17377588152885437, -0.05099713057279587, -...  "
      ]
     },
     "execution_count": 30,
     "metadata": {},
     "output_type": "execute_result"
    }
   ],
   "source": [
    "data.head()"
   ]
  },
  {
   "cell_type": "code",
   "execution_count": 27,
   "metadata": {},
   "outputs": [
    {
     "name": "stdout",
     "output_type": "stream",
     "text": [
      "1578/1578 [==============================] - 103s 65ms/step\n"
     ]
    }
   ],
   "source": [
    "a = np.expand_dims(encoder_model.predict(L1000_encoder_input_data, verbose=1), axis=1)"
   ]
  },
  {
   "cell_type": "code",
   "execution_count": 29,
   "metadata": {},
   "outputs": [
    {
     "data": {
      "text/plain": [
       "(50467, 1, 256)"
      ]
     },
     "execution_count": 29,
     "metadata": {},
     "output_type": "execute_result"
    }
   ],
   "source": [
    "a.shape"
   ]
  },
  {
   "cell_type": "code",
   "execution_count": 22,
   "metadata": {},
   "outputs": [],
   "source": [
    "a = list(data['states'])"
   ]
  },
  {
   "cell_type": "markdown",
   "metadata": {},
   "source": [
    "## Decode"
   ]
  },
  {
   "cell_type": "code",
   "execution_count": 6,
   "metadata": {},
   "outputs": [],
   "source": [
    "import os\n",
    "import glob\n",
    "from lib.Utils_lipo import getSMILES\n",
    "from lib.rdkit_master.Contrib.SA_Score import sascorer\n",
    "from rdkit import Chem, DataStructs"
   ]
  },
  {
   "cell_type": "code",
   "execution_count": 7,
   "metadata": {},
   "outputs": [
    {
     "name": "stdout",
     "output_type": "stream",
     "text": [
      "2.7850628529534345\n"
     ]
    }
   ],
   "source": [
    "df_condition = pd.read_csv('data/lipo_balanced_condition_unique.csv')\n",
    "print(df_condition['GenExp'].mean())\n",
    "condition = np.asarray([3.0])\n",
    "smiles_actives = df_condition['input_smiles'].tolist()\n",
    "trials = 5000\n",
    "mols_actives = [Chem.MolFromSmiles(mol) for mol in smiles_actives]\n",
    "ecfps_actives = [AllChem.GetMorganFingerprintAsBitVect(mol, 3, nBits=1024, useChirality=True) for mol in mols_actives]\n",
    "maccs_actives = [MACCSkeys.GenMACCSKeys(mol) for mol in mols_actives]"
   ]
  },
  {
   "cell_type": "code",
   "execution_count": 8,
   "metadata": {},
   "outputs": [
    {
     "name": "stdout",
     "output_type": "stream",
     "text": [
      "Number of samples: 100, dims of each sample: (256,)\n",
      "samples shape (100, 256)\n"
     ]
    }
   ],
   "source": [
    "sample_dir = '/Users/mona/GitClone/Diffuse/data/samples_100_v2'\n",
    "sample_path = glob.glob(os.path.join(sample_dir, '*.npy'))\n",
    "samples = [np.load(x) for x in sample_path]\n",
    "print(f\"Number of samples: {len(samples)}, dims of each sample: {samples[0].shape}\")\n",
    "\n",
    "samples = np.stack(samples)\n",
    "print(f\"samples shape {samples.shape}\")"
   ]
  },
  {
   "cell_type": "code",
   "execution_count": 32,
   "metadata": {},
   "outputs": [
    {
     "data": {
      "text/plain": [
       "array([[0.41432333, 0.44181493, 0.50545555, ..., 0.35376814, 0.7171818 ,\n",
       "        0.6687947 ],\n",
       "       [0.3344016 , 0.5069134 , 0.4692589 , ..., 0.34573293, 0.5618521 ,\n",
       "        0.70529884],\n",
       "       [0.4652025 , 0.4861829 , 0.4821378 , ..., 0.3091187 , 0.63103276,\n",
       "        0.49203515],\n",
       "       ...,\n",
       "       [0.5286651 , 0.47665507, 0.43904796, ..., 0.37645662, 0.5684196 ,\n",
       "        0.523644  ],\n",
       "       [0.35753468, 0.482711  , 0.49890196, ..., 0.32234234, 0.67561257,\n",
       "        0.5447184 ],\n",
       "       [0.3741781 , 0.5006781 , 0.55524665, ..., 0.3568912 , 0.50253016,\n",
       "        0.48370722]], dtype=float32)"
      ]
     },
     "execution_count": 32,
     "metadata": {},
     "output_type": "execute_result"
    }
   ],
   "source": [
    "samples"
   ]
  },
  {
   "cell_type": "code",
   "execution_count": 31,
   "metadata": {},
   "outputs": [
    {
     "name": "stdout",
     "output_type": "stream",
     "text": [
      "4/4 [==============================] - 1s 6ms/step\n",
      "4/4 [==============================] - 0s 4ms/step\n",
      "4/4 [==============================] - 0s 3ms/step\n",
      "4/4 [==============================] - 0s 5ms/step\n",
      "4/4 [==============================] - 0s 3ms/step\n",
      "4/4 [==============================] - 0s 4ms/step\n",
      "4/4 [==============================] - 0s 4ms/step\n",
      "4/4 [==============================] - 0s 4ms/step\n",
      "4/4 [==============================] - 0s 3ms/step\n",
      "4/4 [==============================] - 0s 4ms/step\n",
      "4/4 [==============================] - 0s 5ms/step\n",
      "4/4 [==============================] - 0s 4ms/step\n",
      "4/4 [==============================] - 0s 4ms/step\n",
      "4/4 [==============================] - 0s 3ms/step\n",
      "4/4 [==============================] - 0s 4ms/step\n",
      "4/4 [==============================] - 0s 4ms/step\n",
      "4/4 [==============================] - 0s 4ms/step\n",
      "4/4 [==============================] - 0s 4ms/step\n",
      "4/4 [==============================] - 0s 9ms/step\n",
      "4/4 [==============================] - 0s 3ms/step\n",
      "4/4 [==============================] - 0s 3ms/step\n",
      "4/4 [==============================] - 0s 3ms/step\n",
      "4/4 [==============================] - 0s 3ms/step\n",
      "4/4 [==============================] - 0s 4ms/step\n",
      "4/4 [==============================] - 0s 4ms/step\n",
      "4/4 [==============================] - 0s 3ms/step\n",
      "4/4 [==============================] - 0s 3ms/step\n",
      "4/4 [==============================] - 0s 7ms/step\n",
      "4/4 [==============================] - 0s 3ms/step\n",
      "4/4 [==============================] - 0s 4ms/step\n",
      "4/4 [==============================] - 0s 3ms/step\n",
      "4/4 [==============================] - 0s 3ms/step\n",
      "4/4 [==============================] - 0s 3ms/step\n",
      "4/4 [==============================] - 0s 3ms/step\n",
      "4/4 [==============================] - 0s 3ms/step\n",
      "4/4 [==============================] - 0s 3ms/step\n",
      "4/4 [==============================] - 0s 3ms/step\n",
      "4/4 [==============================] - 0s 3ms/step\n",
      "4/4 [==============================] - 0s 3ms/step\n",
      "4/4 [==============================] - 0s 3ms/step\n",
      "4/4 [==============================] - 0s 4ms/step\n",
      "4/4 [==============================] - 0s 3ms/step\n",
      "4/4 [==============================] - 0s 3ms/step\n",
      "4/4 [==============================] - 0s 4ms/step\n",
      "4/4 [==============================] - 0s 3ms/step\n",
      "4/4 [==============================] - 0s 3ms/step\n",
      "4/4 [==============================] - 0s 3ms/step\n",
      "4/4 [==============================] - 0s 3ms/step\n",
      "4/4 [==============================] - 0s 3ms/step\n",
      "4/4 [==============================] - 0s 3ms/step\n",
      "4/4 [==============================] - 0s 3ms/step\n",
      "4/4 [==============================] - 0s 3ms/step\n",
      "4/4 [==============================] - 0s 3ms/step\n",
      "4/4 [==============================] - 0s 4ms/step\n",
      "4/4 [==============================] - 0s 3ms/step\n",
      "4/4 [==============================] - 0s 4ms/step\n",
      "4/4 [==============================] - 0s 3ms/step\n",
      "4/4 [==============================] - 0s 3ms/step\n",
      "4/4 [==============================] - 0s 3ms/step\n",
      "4/4 [==============================] - 0s 3ms/step\n",
      "4/4 [==============================] - 0s 3ms/step\n",
      "4/4 [==============================] - 0s 4ms/step\n",
      "4/4 [==============================] - 0s 5ms/step\n",
      "4/4 [==============================] - 0s 5ms/step\n",
      "4/4 [==============================] - 0s 4ms/step\n",
      "4/4 [==============================] - 0s 3ms/step\n",
      "4/4 [==============================] - 0s 3ms/step\n",
      "4/4 [==============================] - 0s 3ms/step\n",
      "4/4 [==============================] - 0s 3ms/step\n",
      "4/4 [==============================] - 0s 3ms/step\n",
      "4/4 [==============================] - 0s 3ms/step\n",
      "4/4 [==============================] - 0s 4ms/step\n",
      "4/4 [==============================] - 0s 4ms/step\n",
      "4/4 [==============================] - 0s 3ms/step\n",
      "4/4 [==============================] - 0s 3ms/step\n",
      "4/4 [==============================] - 0s 3ms/step\n",
      "4/4 [==============================] - 0s 4ms/step\n",
      "4/4 [==============================] - 0s 3ms/step\n",
      "4/4 [==============================] - 0s 3ms/step\n",
      "4/4 [==============================] - 0s 3ms/step\n",
      "4/4 [==============================] - 0s 3ms/step\n",
      "4/4 [==============================] - 0s 4ms/step\n",
      "4/4 [==============================] - 0s 4ms/step\n",
      "4/4 [==============================] - 0s 3ms/step\n",
      "4/4 [==============================] - 0s 4ms/step\n",
      "4/4 [==============================] - 0s 4ms/step\n",
      "4/4 [==============================] - 0s 3ms/step\n",
      "4/4 [==============================] - 0s 5ms/step\n",
      "4/4 [==============================] - 0s 4ms/step\n",
      "4/4 [==============================] - 0s 8ms/step\n",
      "4/4 [==============================] - 0s 4ms/step\n",
      "4/4 [==============================] - 0s 3ms/step\n",
      "4/4 [==============================] - 0s 3ms/step\n",
      "4/4 [==============================] - 0s 3ms/step\n",
      "4/4 [==============================] - 0s 3ms/step\n",
      "4/4 [==============================] - 0s 3ms/step\n",
      "4/4 [==============================] - 0s 3ms/step\n",
      "4/4 [==============================] - 0s 3ms/step\n",
      "4/4 [==============================] - 0s 3ms/step\n",
      "4/4 [==============================] - 0s 4ms/step\n",
      "4/4 [==============================] - 0s 3ms/step\n",
      "4/4 [==============================] - 0s 3ms/step\n",
      "4/4 [==============================] - 0s 3ms/step\n",
      "4/4 [==============================] - 0s 3ms/step\n",
      "4/4 [==============================] - 0s 3ms/step\n",
      "4/4 [==============================] - 0s 3ms/step\n",
      "4/4 [==============================] - 0s 4ms/step\n",
      "4/4 [==============================] - 0s 3ms/step\n",
      "4/4 [==============================] - 0s 3ms/step\n",
      "4/4 [==============================] - 0s 3ms/step\n",
      "4/4 [==============================] - 0s 4ms/step\n",
      "4/4 [==============================] - 0s 3ms/step\n",
      "4/4 [==============================] - 0s 3ms/step\n",
      "4/4 [==============================] - 0s 3ms/step\n",
      "4/4 [==============================] - 0s 4ms/step\n",
      "4/4 [==============================] - 0s 3ms/step\n",
      "4/4 [==============================] - 0s 4ms/step\n",
      "4/4 [==============================] - 0s 3ms/step\n",
      "4/4 [==============================] - 0s 9ms/step\n",
      "4/4 [==============================] - 0s 4ms/step\n",
      "4/4 [==============================] - 0s 3ms/step\n",
      "4/4 [==============================] - 0s 3ms/step\n",
      "4/4 [==============================] - 0s 3ms/step\n",
      "4/4 [==============================] - 0s 3ms/step\n",
      "4/4 [==============================] - 0s 3ms/step\n",
      "4/4 [==============================] - 0s 3ms/step\n",
      "4/4 [==============================] - 0s 3ms/step\n",
      "4/4 [==============================] - 0s 3ms/step\n",
      "4/4 [==============================] - 0s 3ms/step\n",
      "4/4 [==============================] - 0s 4ms/step\n",
      "4/4 [==============================] - 0s 4ms/step\n",
      "4/4 [==============================] - 0s 4ms/step\n",
      "4/4 [==============================] - 0s 4ms/step\n",
      "4/4 [==============================] - 0s 4ms/step\n",
      "4/4 [==============================] - 0s 3ms/step\n",
      "4/4 [==============================] - 0s 4ms/step\n",
      "4/4 [==============================] - 0s 4ms/step\n",
      "4/4 [==============================] - 0s 3ms/step\n",
      "4/4 [==============================] - 0s 3ms/step\n",
      "4/4 [==============================] - 0s 3ms/step\n",
      "4/4 [==============================] - 0s 3ms/step\n",
      "4/4 [==============================] - 0s 3ms/step\n",
      "4/4 [==============================] - 0s 4ms/step\n",
      "4/4 [==============================] - 0s 3ms/step\n",
      "4/4 [==============================] - 0s 3ms/step\n",
      "4/4 [==============================] - 0s 4ms/step\n",
      "4/4 [==============================] - 0s 4ms/step\n",
      "4/4 [==============================] - 0s 4ms/step\n",
      "4/4 [==============================] - 0s 4ms/step\n",
      "4/4 [==============================] - 0s 3ms/step\n",
      "4/4 [==============================] - 0s 4ms/step\n",
      "4/4 [==============================] - 0s 3ms/step\n",
      "4/4 [==============================] - 0s 4ms/step\n",
      "4/4 [==============================] - 0s 3ms/step\n",
      "4/4 [==============================] - 0s 4ms/step\n",
      "4/4 [==============================] - 0s 4ms/step\n",
      "4/4 [==============================] - 0s 4ms/step\n",
      "4/4 [==============================] - 0s 3ms/step\n",
      "4/4 [==============================] - 0s 3ms/step\n",
      "4/4 [==============================] - 0s 3ms/step\n",
      "4/4 [==============================] - 0s 4ms/step\n",
      "4/4 [==============================] - 0s 3ms/step\n",
      "4/4 [==============================] - 0s 4ms/step\n",
      "4/4 [==============================] - 0s 3ms/step\n",
      "4/4 [==============================] - 0s 4ms/step\n",
      "4/4 [==============================] - 0s 4ms/step\n",
      "4/4 [==============================] - 0s 3ms/step\n",
      "4/4 [==============================] - 0s 3ms/step\n",
      "4/4 [==============================] - 0s 3ms/step\n",
      "4/4 [==============================] - 0s 4ms/step\n",
      "4/4 [==============================] - 0s 4ms/step\n",
      "4/4 [==============================] - 0s 3ms/step\n",
      "4/4 [==============================] - 0s 4ms/step\n",
      "4/4 [==============================] - 0s 3ms/step\n",
      "4/4 [==============================] - 0s 4ms/step\n",
      "4/4 [==============================] - 0s 3ms/step\n",
      "4/4 [==============================] - 0s 3ms/step\n",
      "4/4 [==============================] - 0s 3ms/step\n",
      "4/4 [==============================] - 0s 5ms/step\n",
      "4/4 [==============================] - 0s 3ms/step\n",
      "4/4 [==============================] - 0s 4ms/step\n",
      "4/4 [==============================] - 0s 4ms/step\n",
      "4/4 [==============================] - 0s 4ms/step\n",
      "4/4 [==============================] - 0s 3ms/step\n",
      "4/4 [==============================] - 0s 3ms/step\n",
      "4/4 [==============================] - 0s 3ms/step\n",
      "4/4 [==============================] - 0s 14ms/step\n",
      "4/4 [==============================] - 0s 4ms/step\n",
      "4/4 [==============================] - 0s 6ms/step\n",
      "4/4 [==============================] - 0s 4ms/step\n",
      "4/4 [==============================] - 0s 4ms/step\n",
      "4/4 [==============================] - 0s 8ms/step\n",
      "4/4 [==============================] - 0s 4ms/step\n",
      "4/4 [==============================] - 0s 3ms/step\n",
      "4/4 [==============================] - 0s 5ms/step\n",
      "4/4 [==============================] - 0s 4ms/step\n",
      "4/4 [==============================] - 0s 4ms/step\n",
      "4/4 [==============================] - 0s 4ms/step\n",
      "4/4 [==============================] - 0s 3ms/step\n",
      "4/4 [==============================] - 0s 3ms/step\n",
      "4/4 [==============================] - 0s 4ms/step\n",
      "4/4 [==============================] - 0s 3ms/step\n",
      "4/4 [==============================] - 0s 4ms/step\n",
      "4/4 [==============================] - 0s 3ms/step\n",
      "4/4 [==============================] - 0s 3ms/step\n",
      "4/4 [==============================] - 0s 4ms/step\n",
      "4/4 [==============================] - 0s 4ms/step\n",
      "4/4 [==============================] - 0s 4ms/step\n",
      "4/4 [==============================] - 0s 3ms/step\n",
      "4/4 [==============================] - 0s 4ms/step\n",
      "4/4 [==============================] - 0s 4ms/step\n",
      "4/4 [==============================] - 0s 5ms/step\n",
      "4/4 [==============================] - 0s 5ms/step\n",
      "4/4 [==============================] - 0s 5ms/step\n",
      "4/4 [==============================] - 0s 4ms/step\n",
      "4/4 [==============================] - 0s 3ms/step\n",
      "4/4 [==============================] - 0s 4ms/step\n",
      "4/4 [==============================] - 0s 3ms/step\n",
      "4/4 [==============================] - 0s 4ms/step\n",
      "4/4 [==============================] - 0s 3ms/step\n",
      "4/4 [==============================] - 0s 4ms/step\n",
      "4/4 [==============================] - 0s 3ms/step\n",
      "4/4 [==============================] - 0s 3ms/step\n",
      "4/4 [==============================] - 0s 4ms/step\n",
      "4/4 [==============================] - 0s 8ms/step\n",
      "4/4 [==============================] - 0s 4ms/step\n",
      "4/4 [==============================] - 0s 3ms/step\n",
      "4/4 [==============================] - 0s 5ms/step\n",
      "4/4 [==============================] - 0s 3ms/step\n",
      "4/4 [==============================] - 0s 4ms/step\n",
      "4/4 [==============================] - 0s 3ms/step\n",
      "4/4 [==============================] - 0s 4ms/step\n",
      "4/4 [==============================] - 0s 3ms/step\n",
      "4/4 [==============================] - 0s 4ms/step\n",
      "4/4 [==============================] - 0s 3ms/step\n",
      "4/4 [==============================] - 0s 4ms/step\n",
      "4/4 [==============================] - 0s 4ms/step\n",
      "4/4 [==============================] - 0s 4ms/step\n",
      "4/4 [==============================] - 0s 4ms/step\n",
      "4/4 [==============================] - 0s 3ms/step\n",
      "4/4 [==============================] - 0s 3ms/step\n",
      "4/4 [==============================] - 0s 3ms/step\n",
      "4/4 [==============================] - 0s 4ms/step\n",
      "4/4 [==============================] - 0s 4ms/step\n",
      "4/4 [==============================] - 0s 3ms/step\n",
      "4/4 [==============================] - 0s 4ms/step\n",
      "4/4 [==============================] - 0s 6ms/step\n",
      "4/4 [==============================] - 0s 3ms/step\n",
      "4/4 [==============================] - 0s 3ms/step\n",
      "4/4 [==============================] - 0s 4ms/step\n",
      "4/4 [==============================] - 0s 5ms/step\n",
      "4/4 [==============================] - 0s 6ms/step\n",
      "4/4 [==============================] - 0s 4ms/step\n",
      "4/4 [==============================] - 0s 3ms/step\n",
      "4/4 [==============================] - 0s 4ms/step\n",
      "4/4 [==============================] - 0s 3ms/step\n",
      "4/4 [==============================] - 0s 4ms/step\n",
      "4/4 [==============================] - 0s 3ms/step\n",
      "4/4 [==============================] - 0s 7ms/step\n",
      "4/4 [==============================] - 0s 4ms/step\n",
      "4/4 [==============================] - 0s 4ms/step\n",
      "4/4 [==============================] - 0s 3ms/step\n",
      "4/4 [==============================] - 0s 4ms/step\n",
      "4/4 [==============================] - 0s 5ms/step\n",
      "4/4 [==============================] - 0s 3ms/step\n",
      "4/4 [==============================] - 0s 4ms/step\n",
      "4/4 [==============================] - 0s 9ms/step\n",
      "4/4 [==============================] - 0s 4ms/step\n",
      "4/4 [==============================] - 0s 4ms/step\n",
      "4/4 [==============================] - 0s 3ms/step\n",
      "4/4 [==============================] - 0s 4ms/step\n",
      "4/4 [==============================] - 0s 4ms/step\n",
      "4/4 [==============================] - 0s 3ms/step\n",
      "4/4 [==============================] - 0s 4ms/step\n",
      "4/4 [==============================] - 0s 4ms/step\n",
      "4/4 [==============================] - 0s 3ms/step\n",
      "4/4 [==============================] - 0s 5ms/step\n",
      "4/4 [==============================] - 0s 8ms/step\n",
      "4/4 [==============================] - 0s 4ms/step\n",
      "4/4 [==============================] - 0s 5ms/step\n",
      "4/4 [==============================] - 0s 3ms/step\n",
      "4/4 [==============================] - 0s 5ms/step\n",
      "4/4 [==============================] - 0s 4ms/step\n",
      "4/4 [==============================] - 0s 5ms/step\n",
      "4/4 [==============================] - 0s 3ms/step\n",
      "4/4 [==============================] - 0s 3ms/step\n",
      "4/4 [==============================] - 0s 5ms/step\n",
      "4/4 [==============================] - 0s 5ms/step\n",
      "4/4 [==============================] - 0s 9ms/step\n",
      "4/4 [==============================] - 0s 6ms/step\n",
      "4/4 [==============================] - 0s 8ms/step\n",
      "4/4 [==============================] - 0s 6ms/step\n",
      "4/4 [==============================] - 0s 4ms/step\n",
      "4/4 [==============================] - 0s 5ms/step\n",
      "4/4 [==============================] - 0s 4ms/step\n",
      "4/4 [==============================] - 0s 5ms/step\n",
      "4/4 [==============================] - 0s 7ms/step\n",
      "4/4 [==============================] - 0s 6ms/step\n",
      "4/4 [==============================] - 0s 4ms/step\n",
      "4/4 [==============================] - 0s 5ms/step\n"
     ]
    }
   ],
   "source": [
    "pred_smiles1 = getSMILES(samples, decoder_model=decoder_model, use_grammar=True)"
   ]
  },
  {
   "cell_type": "code",
   "execution_count": 10,
   "metadata": {},
   "outputs": [
    {
     "data": {
      "text/plain": [
       "['NCOCC',\n",
       " 'NCNC',\n",
       " 'NNC',\n",
       " 'NCNCC',\n",
       " 'NNCCCC',\n",
       " 'NNC',\n",
       " 'NCNC',\n",
       " 'NCOCC',\n",
       " 'NNCCC',\n",
       " 'NCNC',\n",
       " 'NNCCC',\n",
       " 'NCNCCC',\n",
       " 'NCNCCC',\n",
       " 'NCOCCC',\n",
       " 'NNCCCCC',\n",
       " 'NC',\n",
       " 'NCNCC',\n",
       " 'NCNCCCC',\n",
       " 'NCNCC',\n",
       " 'NCNC',\n",
       " 'NNCC',\n",
       " 'NCNCC',\n",
       " 'NCOCCCC',\n",
       " 'NNCC',\n",
       " 'NNOCCCC',\n",
       " 'NCOC',\n",
       " 'NCOC',\n",
       " 'NCOC',\n",
       " 'NCNC',\n",
       " 'NCCOCCC',\n",
       " 'NCNCCC',\n",
       " 'NCNC',\n",
       " 'ONCCCCC',\n",
       " 'NCOC',\n",
       " 'NCNCC',\n",
       " 'NCNC',\n",
       " 'NCNCC',\n",
       " 'NCNCC',\n",
       " 'NCNCCC',\n",
       " 'NNCCC',\n",
       " 'NCNCCC',\n",
       " 'NCOCCCC',\n",
       " 'NNCC',\n",
       " 'NCNC',\n",
       " 'NCNC',\n",
       " 'NCNCC',\n",
       " 'NNCCC',\n",
       " 'NNOCC',\n",
       " 'NNCC',\n",
       " 'NCNCC',\n",
       " 'NCOCCC',\n",
       " 'NCNCC',\n",
       " 'NNCCCC',\n",
       " 'NNCC',\n",
       " 'NCNCC',\n",
       " 'NNCC',\n",
       " 'NCOCC',\n",
       " 'NCOC',\n",
       " 'NCOC',\n",
       " 'NCNC',\n",
       " 'NNCCO',\n",
       " 'NCNCC',\n",
       " 'NCNCCC',\n",
       " 'NCOCCC',\n",
       " 'NNCC',\n",
       " 'NCNCC',\n",
       " 'NCNCC',\n",
       " 'NNCC',\n",
       " 'NCNCC',\n",
       " 'NCNCC',\n",
       " 'NCNCC',\n",
       " 'NCNC',\n",
       " 'NCNCC',\n",
       " 'NCNCCCC',\n",
       " 'NCNCC',\n",
       " 'NCNC',\n",
       " 'NNCCCCC',\n",
       " 'NCNC',\n",
       " 'NCNCC',\n",
       " 'NNCCCC',\n",
       " 'NCNCC',\n",
       " 'NCNCC',\n",
       " 'NOCCCCC',\n",
       " 'NCOCCC',\n",
       " 'NCOCCC',\n",
       " 'NCOCC',\n",
       " 'NCNC',\n",
       " 'NCNC',\n",
       " 'NNCCCC',\n",
       " 'NCNCCC',\n",
       " 'NCCOC',\n",
       " 'NNCCC',\n",
       " 'NNCCC',\n",
       " 'NCNCCCC',\n",
       " 'NCOCCC',\n",
       " 'NCNCC',\n",
       " 'NCNCC',\n",
       " 'NNOC',\n",
       " 'NCOCC',\n",
       " 'NCNC']"
      ]
     },
     "execution_count": 10,
     "metadata": {},
     "output_type": "execute_result"
    }
   ],
   "source": [
    "pred_smiles1"
   ]
  },
  {
   "cell_type": "code",
   "execution_count": 11,
   "metadata": {},
   "outputs": [],
   "source": [
    "mols1_used_index = [] # will be used to index pre_smiles\n",
    "mols1_used = []\n",
    "mol1_list = []\n",
    "for id_, smile in enumerate(pred_smiles1):\n",
    "    if Chem.MolFromSmiles(smile) is not None and Chem.MolFromSmiles(smile) not in mols1_used:\n",
    "        mols1_used_index.append(id_)\n",
    "        mols1_used.append(Chem.MolFromSmiles(smile))"
   ]
  },
  {
   "cell_type": "code",
   "execution_count": 12,
   "metadata": {},
   "outputs": [
    {
     "name": "stdout",
     "output_type": "stream",
     "text": [
      "mols1 length:  100\n"
     ]
    }
   ],
   "source": [
    "mols1 = mols1_used \n",
    "valid_smiles1 = len(mols1)\n",
    "unique_smiles1 = len(set([Chem.MolToSmiles(m) for m in mols1]))\n",
    "\n",
    "mols1_used_index_acc = []\n",
    "mols1_acc = []\n",
    "\n",
    "for idx_, mol_ in enumerate(mols1):\n",
    "    if sascorer.calculateScore(mol_) <= 4.5:\n",
    "        mols1_acc.append(mol_)\n",
    "        mols1_used_index_acc.append(mols1_used_index[idx_])\n",
    "\n",
    "mols1 = mols1_acc\n",
    "print(\"mols1 length: \", len(mols1))\n",
    "if mol1_list == []:\n",
    "    mol1_list = mols1\n",
    "else:\n",
    "    mol1_list += mols1\n"
   ]
  },
  {
   "cell_type": "code",
   "execution_count": 13,
   "metadata": {},
   "outputs": [],
   "source": [
    "mols1 = mol1_list\n",
    "ecfps_smiles1 = [AllChem.GetMorganFingerprintAsBitVect(mol, 3, 1024, useChirality=True) for mol in mols1]\n",
    "maccs_smiles1 = [MACCSkeys.GenMACCSKeys(mol) for mol in mols1]\n",
    "\n",
    "\n",
    "#Evaluate diversity and Nearest Neigbours between active compounds and generated molecules\n",
    "ecfps_SimMat1 = [DataStructs.BulkTanimotoSimilarity(fp, ecfps_actives) for fp in ecfps_smiles1]\n",
    "maccs_SimMat1 = [DataStructs.BulkTanimotoSimilarity(fp, maccs_actives) for fp in maccs_smiles1]"
   ]
  },
  {
   "cell_type": "code",
   "execution_count": 14,
   "metadata": {},
   "outputs": [
    {
     "name": "stdout",
     "output_type": "stream",
     "text": [
      "Valid new generation from first generator and mean logp of generation: 20 -0.059729999999999964\n"
     ]
    },
    {
     "data": {
      "text/plain": [
       "(array([1., 0., 2., 3., 2., 3., 4., 1., 2., 2.]),\n",
       " array([-1.558  , -1.28666, -1.01532, -0.74398, -0.47264, -0.2013 ,\n",
       "         0.07004,  0.34138,  0.61272,  0.88406,  1.1554 ]),\n",
       " <BarContainer object of 10 artists>)"
      ]
     },
     "execution_count": 14,
     "metadata": {},
     "output_type": "execute_result"
    },
    {
     "data": {
      "image/png": "[encoded data removed]",
      "text/plain": [
       "<Figure size 432x288 with 1 Axes>"
      ]
     },
     "metadata": {
      "needs_background": "light"
     },
     "output_type": "display_data"
    }
   ],
   "source": [
    "unique_smiles1_set = set([Chem.MolToSmiles(m) for m in mols1])\n",
    "\n",
    "new_smile = []\n",
    "unique_smile_logp = []\n",
    "unique_smile_logp_valid = [] # record valid smiles (that can transfer from mol to smile)\n",
    "new_unique_smile_logp_valid = [] # decide if the smile is valid and new comparing to training dataset\n",
    "\n",
    "for smile in unique_smiles1_set:\n",
    "    smile_valid = False\n",
    "    if Chem.MolFromSmiles(smile) is not None:\n",
    "        mol = Chem.MolFromSmiles(smile)\n",
    "        unique_smile_logp.append(Chem.Crippen.MolLogP(mol))\n",
    "        unique_smile_logp_valid.append(smile)\n",
    "        smile_valid = True\n",
    "        \n",
    "    if smile not in df_condition['input_smiles'].tolist():\n",
    "        new_smile.append(smile)\n",
    "        if smile_valid:\n",
    "            new_unique_smile_logp_valid.append(1)\n",
    "\n",
    "    else:\n",
    "        if smile_valid:\n",
    "            new_unique_smile_logp_valid.append(0)\n",
    "            \n",
    "\n",
    "df = pd.DataFrame(unique_smile_logp_valid, columns =['diffusion_output'])\n",
    "df['logp'] = unique_smile_logp\n",
    "df['valid_new'] = new_unique_smile_logp_valid\n",
    "df.to_csv(\"diffusion_output.csv\")\n",
    "\n",
    "new_smile_logp = np.zeros(len(new_smile))\n",
    "for idx, smile in enumerate(new_smile):\n",
    "    if Chem.MolFromSmiles(smile) is not None:\n",
    "        mol = Chem.MolFromSmiles(smile)\n",
    "        new_smile_logp[idx] = Chem.Crippen.MolLogP(mol)\n",
    "print(\"Valid new generation from first generator and mean logp of generation:\", np.count_nonzero(new_smile_logp), np.mean(new_smile_logp))\n",
    "plt.hist(new_smile_logp)"
   ]
  },
  {
   "cell_type": "code",
   "execution_count": 15,
   "metadata": {},
   "outputs": [
    {
     "data": {
      "image/png": "[encoded data removed]",
      "text/plain": [
       "<Figure size 432x288 with 1 Axes>"
      ]
     },
     "metadata": {
      "needs_background": "light"
     },
     "output_type": "display_data"
    },
    {
     "name": "stdout",
     "output_type": "stream",
     "text": [
      "0.8185000000000001\n",
      "-0.31012900000000004\n",
      "100\n"
     ]
    },
    {
     "data": {
      "image/png": "[encoded data removed]",
      "text/plain": [
       "<Figure size 432x288 with 1 Axes>"
      ]
     },
     "metadata": {
      "needs_background": "light"
     },
     "output_type": "display_data"
    }
   ],
   "source": [
    "closest_neighbor_index_list1 = []\n",
    "closest_neighbor_similarity_list1 = []\n",
    "rdkit_logp_list1 = []\n",
    "for i in range(len(ecfps_SimMat1)):\n",
    "    closest_neighbor_index_list1.append(np.where(ecfps_SimMat1[i] == np.max(ecfps_SimMat1[i]))[0][0])\n",
    "    closest_neighbor_similarity_list1.append(np.max(ecfps_SimMat1[i]))\n",
    "    rdkit_logp_list1.append(Chem.Crippen.MolLogP(mols1[i]))\n",
    "closest_neighbor_exp_list1 = []\n",
    "for i in closest_neighbor_index_list1:\n",
    "    closest_neighbor_exp_list1.append(df_condition['GenExp'][i])\n",
    "# exp = 1\n",
    "plt.hist(closest_neighbor_exp_list1)\n",
    "plt.show()\n",
    "plt.hist(rdkit_logp_list1)\n",
    "print(np.mean(closest_neighbor_exp_list1)) # the logp of closest neighbor in training dataset (from G1)\n",
    "print(np.mean(rdkit_logp_list1)) # the calculated logp (from G1)\n",
    "print(len(closest_neighbor_exp_list1))"
   ]
  },
  {
   "cell_type": "code",
   "execution_count": 33,
   "metadata": {},
   "outputs": [
    {
     "data": {
      "text/plain": [
       "array([-0.1403,  0.3292,  0.2498,  1.1554, -0.9889,  0.2923, -0.4879,\n",
       "       -0.878 , -0.4085,  0.3717, -0.0978,  0.1814, -0.5304, -0.5988,\n",
       "       -0.451 , -0.0609,  1.0669, -1.558 ,  0.7193,  0.6399])"
      ]
     },
     "execution_count": 33,
     "metadata": {},
     "output_type": "execute_result"
    }
   ],
   "source": [
    "new_smile_logp"
   ]
  },
  {
   "cell_type": "code",
   "execution_count": 35,
   "metadata": {},
   "outputs": [
    {
     "data": {
      "text/plain": [
       "22"
      ]
     },
     "execution_count": 35,
     "metadata": {},
     "output_type": "execute_result"
    }
   ],
   "source": [
    "len(unique_smiles1_set)"
   ]
  }
 ],
 "metadata": {
  "kernelspec": {
   "display_name": "Python 3.8.13 ('tf2')",
   "language": "python",
   "name": "python3"
  },
  "language_info": {
   "codemirror_mode": {
    "name": "ipython",
    "version": 3
   },
   "file_extension": ".py",
   "mimetype": "text/x-python",
   "name": "python",
   "nbconvert_exporter": "python",
   "pygments_lexer": "ipython3",
   "version": "3.8.13"
  },
  "orig_nbformat": 4,
  "vscode": {
   "interpreter": {
    "hash": "487ce77215b68e2499110740f93330a659b2d5bf09ebc1ff431bb57abc513433"
   }
  }
 },
 "nbformat": 4,
 "nbformat_minor": 2
}
